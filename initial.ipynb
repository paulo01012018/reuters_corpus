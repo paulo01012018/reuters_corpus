{
 "cells": [
  {
   "cell_type": "code",
   "execution_count": 8,
   "metadata": {},
   "outputs": [],
   "source": [
    "%matplotlib inline\n",
    "from _bernstein.lib import bernstein\n",
    "from nltk.corpus import reuters\n",
    "import numpy as np\n",
    "from pprint import pprint\n",
    "from keras import Sequential\n",
    "from keras.layers import Dense, Dropout, Flatten\n",
    "from keras.losses import categorical_crossentropy, binary_crossentropy\n",
    "from keras.optimizers import Adam\n",
    "from sklearn.pipeline import Pipeline\n",
    "from sklearn.feature_extraction.text import TfidfVectorizer\n",
    "from sklearn.naive_bayes import BernoulliNB\n",
    "from sklearn.naive_bayes import MultinomialNB\n",
    "from sklearn.metrics import accuracy_score, roc_auc_score\n",
    "from sklearn.ensemble import RandomForestClassifier\n",
    "from nltk.corpus import stopwords\n",
    "from sklearn.multiclass import OneVsRestClassifier\n",
    "from sklearn.preprocessing import MultiLabelBinarizer\n",
    "stop_words = set(stopwords.words('english'))\n",
    "from tqdm import tqdm\n",
    "from progressbar import ProgressBar\n",
    "import pandas as pd\n",
    "from IPython.display import SVG\n",
    "from keras.utils.vis_utils import model_to_dot\n",
    "import seaborn as sbn"
   ]
  },
  {
   "cell_type": "code",
   "execution_count": 9,
   "metadata": {},
   "outputs": [],
   "source": [
    "import logging\n",
    "logging.basicConfig(level=logging.DEBUG)"
   ]
  },
  {
   "cell_type": "code",
   "execution_count": 12,
   "metadata": {},
   "outputs": [],
   "source": [
    "documents = reuters.fileids()"
   ]
  },
  {
   "cell_type": "markdown",
   "metadata": {},
   "source": [
    "# Problem definition"
   ]
  },
  {
   "cell_type": "markdown",
   "metadata": {},
   "source": [
    "The goal is to solve a multi label classification problem. I'll be using the reuters corpus to try different techniques. The corpus is available through nltk."
   ]
  },
  {
   "cell_type": "markdown",
   "metadata": {},
   "source": [
    "# Exploratory analysis"
   ]
  },
  {
   "cell_type": "code",
   "execution_count": 13,
   "metadata": {},
   "outputs": [],
   "source": [
    "training_df = pd.DataFrame([(file,len(reuters.categories(file))) for file in documents if file.startswith(\"training\")],columns=[\"fileid\",\"categories\"])\n",
    "testing_df = pd.DataFrame([(file,len(reuters.categories(file))) for file in documents if file.startswith(\"test\")],columns=[\"fileid\",\"categories\"])"
   ]
  },
  {
   "cell_type": "code",
   "execution_count": 40,
   "metadata": {},
   "outputs": [
    {
     "data": {
      "text/html": [
       "<div>\n",
       "<style scoped>\n",
       "    .dataframe tbody tr th:only-of-type {\n",
       "        vertical-align: middle;\n",
       "    }\n",
       "\n",
       "    .dataframe tbody tr th {\n",
       "        vertical-align: top;\n",
       "    }\n",
       "\n",
       "    .dataframe thead th {\n",
       "        text-align: right;\n",
       "    }\n",
       "</style>\n",
       "<table border=\"1\" class=\"dataframe\">\n",
       "  <thead>\n",
       "    <tr style=\"text-align: right;\">\n",
       "      <th></th>\n",
       "      <th>categories</th>\n",
       "    </tr>\n",
       "  </thead>\n",
       "  <tbody>\n",
       "    <tr>\n",
       "      <th>count</th>\n",
       "      <td>7769.000000</td>\n",
       "    </tr>\n",
       "    <tr>\n",
       "      <th>mean</th>\n",
       "      <td>1.233621</td>\n",
       "    </tr>\n",
       "    <tr>\n",
       "      <th>std</th>\n",
       "      <td>0.713719</td>\n",
       "    </tr>\n",
       "    <tr>\n",
       "      <th>min</th>\n",
       "      <td>1.000000</td>\n",
       "    </tr>\n",
       "    <tr>\n",
       "      <th>25%</th>\n",
       "      <td>1.000000</td>\n",
       "    </tr>\n",
       "    <tr>\n",
       "      <th>50%</th>\n",
       "      <td>1.000000</td>\n",
       "    </tr>\n",
       "    <tr>\n",
       "      <th>75%</th>\n",
       "      <td>1.000000</td>\n",
       "    </tr>\n",
       "    <tr>\n",
       "      <th>max</th>\n",
       "      <td>15.000000</td>\n",
       "    </tr>\n",
       "  </tbody>\n",
       "</table>\n",
       "</div>"
      ],
      "text/plain": [
       "        categories\n",
       "count  7769.000000\n",
       "mean      1.233621\n",
       "std       0.713719\n",
       "min       1.000000\n",
       "25%       1.000000\n",
       "50%       1.000000\n",
       "75%       1.000000\n",
       "max      15.000000"
      ]
     },
     "execution_count": 40,
     "metadata": {},
     "output_type": "execute_result"
    }
   ],
   "source": [
    "training_df.describe()"
   ]
  },
  {
   "cell_type": "code",
   "execution_count": 42,
   "metadata": {},
   "outputs": [
    {
     "data": {
      "text/html": [
       "<div>\n",
       "<style scoped>\n",
       "    .dataframe tbody tr th:only-of-type {\n",
       "        vertical-align: middle;\n",
       "    }\n",
       "\n",
       "    .dataframe tbody tr th {\n",
       "        vertical-align: top;\n",
       "    }\n",
       "\n",
       "    .dataframe thead th {\n",
       "        text-align: right;\n",
       "    }\n",
       "</style>\n",
       "<table border=\"1\" class=\"dataframe\">\n",
       "  <thead>\n",
       "    <tr style=\"text-align: right;\">\n",
       "      <th></th>\n",
       "      <th>categories</th>\n",
       "    </tr>\n",
       "  </thead>\n",
       "  <tbody>\n",
       "    <tr>\n",
       "      <th>count</th>\n",
       "      <td>3019.000000</td>\n",
       "    </tr>\n",
       "    <tr>\n",
       "      <th>mean</th>\n",
       "      <td>1.240146</td>\n",
       "    </tr>\n",
       "    <tr>\n",
       "      <th>std</th>\n",
       "      <td>0.823949</td>\n",
       "    </tr>\n",
       "    <tr>\n",
       "      <th>min</th>\n",
       "      <td>1.000000</td>\n",
       "    </tr>\n",
       "    <tr>\n",
       "      <th>25%</th>\n",
       "      <td>1.000000</td>\n",
       "    </tr>\n",
       "    <tr>\n",
       "      <th>50%</th>\n",
       "      <td>1.000000</td>\n",
       "    </tr>\n",
       "    <tr>\n",
       "      <th>75%</th>\n",
       "      <td>1.000000</td>\n",
       "    </tr>\n",
       "    <tr>\n",
       "      <th>max</th>\n",
       "      <td>14.000000</td>\n",
       "    </tr>\n",
       "  </tbody>\n",
       "</table>\n",
       "</div>"
      ],
      "text/plain": [
       "        categories\n",
       "count  3019.000000\n",
       "mean      1.240146\n",
       "std       0.823949\n",
       "min       1.000000\n",
       "25%       1.000000\n",
       "50%       1.000000\n",
       "75%       1.000000\n",
       "max      14.000000"
      ]
     },
     "execution_count": 42,
     "metadata": {},
     "output_type": "execute_result"
    }
   ],
   "source": [
    "testing_df.describe()"
   ]
  },
  {
   "cell_type": "code",
   "execution_count": 46,
   "metadata": {},
   "outputs": [
    {
     "data": {
      "image/png": "[encoded data removed]",
      "text/plain": [
       "<matplotlib.figure.Figure at 0x7f741ae3a160>"
      ]
     },
     "metadata": {},
     "output_type": "display_data"
    }
   ],
   "source": [
    "training_df.hist();"
   ]
  },
  {
   "cell_type": "code",
   "execution_count": 45,
   "metadata": {
    "scrolled": true
   },
   "outputs": [
    {
     "data": {
      "image/png": "[encoded data removed]",
      "text/plain": [
       "<matplotlib.figure.Figure at 0x7f743c406f28>"
      ]
     },
     "metadata": {},
     "output_type": "display_data"
    }
   ],
   "source": [
    "testing_df.hist();"
   ]
  },
  {
   "cell_type": "markdown",
   "metadata": {},
   "source": [
    "Both sets seem equally balanced"
   ]
  },
  {
   "cell_type": "markdown",
   "metadata": {},
   "source": [
    "# Pipeline prep"
   ]
  },
  {
   "cell_type": "code",
   "execution_count": 18,
   "metadata": {},
   "outputs": [],
   "source": [
    "X, X_test = [], []\n",
    "y, y_test = [], []\n",
    "\n",
    "mlb = MultiLabelBinarizer()\n",
    "mlb.fit([[cat] for cat in reuters.categories()])\n",
    "\n",
    "for file in documents:\n",
    "    x_ = X_test if file.startswith(\"test\") else X\n",
    "    y_ = y_test if file.startswith(\"test\") else y\n",
    "    x_.append(\" \".join(reuters.words(file)))\n",
    "    y_.append(reuters.categories(file))\n",
    "\n",
    "X, X_ = np.array(X), np.array(X_test)"
   ]
  },
  {
   "cell_type": "markdown",
   "metadata": {},
   "source": [
    "# Naive Bayes"
   ]
  },
  {
   "cell_type": "code",
   "execution_count": 19,
   "metadata": {},
   "outputs": [
    {
     "name": "stdout",
     "output_type": "stream",
     "text": [
      "NBPipeline accuracy: 0.5240145743623716\n"
     ]
    }
   ],
   "source": [
    "NBPipeline = Pipeline([\n",
    "    ('tfidf', TfidfVectorizer(stop_words=stop_words)),\n",
    "    ('clf', OneVsRestClassifier(BernoulliNB(fit_prior=True, class_prior=None))),\n",
    "])\n",
    "\n",
    "NBPipeline.fit(X,mlb.transform(y))\n",
    "predictions = NBPipeline.predict(X_test)\n",
    "print(\"NBPipeline accuracy: {}\".format(accuracy_score(mlb.transform(y_test),predictions)))"
   ]
  },
  {
   "cell_type": "markdown",
   "metadata": {},
   "source": [
    "# Random Forests"
   ]
  },
  {
   "cell_type": "code",
   "execution_count": 20,
   "metadata": {},
   "outputs": [
    {
     "name": "stdout",
     "output_type": "stream",
     "text": [
      "RFPipeline accuracy: 0.6538588936734018\n"
     ]
    }
   ],
   "source": [
    "RFPipeline = Pipeline([\n",
    "    ('tfidf', TfidfVectorizer(stop_words=stop_words)),\n",
    "    ('clf', RandomForestClassifier(n_estimators=50,n_jobs=-1,random_state=111)),\n",
    "])\n",
    "\n",
    "RFPipeline.fit(X,mlb.transform(y))\n",
    "predictions = RFPipeline.predict(X_test)\n",
    "print(\"RFPipeline accuracy: {}\".format(accuracy_score(mlb.transform(y_test),predictions)))"
   ]
  },
  {
   "cell_type": "markdown",
   "metadata": {},
   "source": [
    "# Hashing trick + NN"
   ]
  },
  {
   "cell_type": "markdown",
   "metadata": {},
   "source": [
    "I needed a multilevel hashing function. Instead of searching for a python implementation, I used cffi wrap around some old C code i had laying around to make an extension module. I used Dan Bernstein's hash function."
   ]
  },
  {
   "cell_type": "code",
   "execution_count": 17,
   "metadata": {},
   "outputs": [
    {
     "name": "stderr",
     "output_type": "stream",
     "text": [
      "INFO:root:Starting with 4 tables and 1000 buckets\n",
      "INFO:root:One Hot Encoding dict generated\n",
      "INFO:root:90 categories found\n",
      "100% (10788 of 10788) |##################| Elapsed Time: 0:00:29 Time:  0:00:29\n",
      "INFO:root:All training vectors generated\n",
      "INFO:root:7769 training instances\n",
      "INFO:root:3019 test instances\n"
     ]
    }
   ],
   "source": [
    "TABLES = 4\n",
    "BUCKETS = 1000\n",
    "\n",
    "logging.info(\"Starting with {} tables and {} buckets\".format(TABLES,BUCKETS))\n",
    "\n",
    "X_train = {}\n",
    "y_train = {}\n",
    "\n",
    "X_test = {}\n",
    "y_test = {}\n",
    "\n",
    "categories_ohe = {v:i for i,v in enumerate(reuters.categories())}\n",
    "logging.info(\"One Hot Encoding dict generated\")\n",
    "categories_len = len(reuters.categories())\n",
    "logging.info(\"{} categories found\".format(categories_len))\n",
    "\n",
    "with ProgressBar(max_value=len(documents)) as pbar:\n",
    "    for index, file in enumerate(documents):\n",
    "        xdict = X_test if file.startswith(\"test\") else X_train\n",
    "        ydict = y_test if file.startswith(\"test\") else y_train\n",
    "        minhashes = np.zeros((TABLES,BUCKETS))\n",
    "        for i in range(TABLES):\n",
    "            minhash = minhashes[i]\n",
    "            for word in reuters.words(file):\n",
    "                minhash[bernstein(bytes(word.encode('UTF8')),i,BUCKETS)]+=1\n",
    "        xdict[file] = minhashes\n",
    "        y_value = np.zeros(categories_len)\n",
    "        for cat in reuters.categories(file):\n",
    "            y_value[categories_ohe[cat]] = 1\n",
    "        ydict[file] = y_value\n",
    "        pbar.update(index)\n",
    "\n",
    "logging.info(\"All training vectors generated\")\n",
    "\n",
    "X, X_ = [], []\n",
    "y, y_ = [], []\n",
    "\n",
    "for key in X_train.keys():\n",
    "    X.append(X_train[key])\n",
    "    y.append(y_train[key])\n",
    "\n",
    "for key in X_test.keys():\n",
    "    X_.append(X_test[key])\n",
    "    y_.append(y_test[key])\n",
    "\n",
    "X, X_ = np.array(X), np.array(X_)\n",
    "y, y_ = np.array(y), np.array(y_)\n",
    "\n",
    "logging.info(\"{} training instances\".format(len(X)))\n",
    "logging.info(\"{} test instances\".format(len(X_)))"
   ]
  },
  {
   "cell_type": "code",
   "execution_count": 18,
   "metadata": {},
   "outputs": [],
   "source": [
    "model = Sequential()\n",
    "model.add(Flatten(input_shape=(TABLES,BUCKETS)))\n",
    "model.add(Dense(BUCKETS,activation='relu'))\n",
    "model.add(Dropout(0.20))\n",
    "model.add(Dense(500,activation='relu'))\n",
    "model.add(Dropout(0.20))\n",
    "model.add(Dense(categories_len,activation='sigmoid'))\n",
    "model.compile(loss=binary_crossentropy,optimizer=Adam(),metrics=['accuracy'])"
   ]
  },
  {
   "cell_type": "code",
   "execution_count": 19,
   "metadata": {},
   "outputs": [
    {
     "name": "stdout",
     "output_type": "stream",
     "text": [
      "_________________________________________________________________\n",
      "Layer (type)                 Output Shape              Param #   \n",
      "=================================================================\n",
      "flatten_1 (Flatten)          (None, 4000)              0         \n",
      "_________________________________________________________________\n",
      "dense_1 (Dense)              (None, 1000)              4001000   \n",
      "_________________________________________________________________\n",
      "dropout_1 (Dropout)          (None, 1000)              0         \n",
      "_________________________________________________________________\n",
      "dense_2 (Dense)              (None, 500)               500500    \n",
      "_________________________________________________________________\n",
      "dropout_2 (Dropout)          (None, 500)               0         \n",
      "_________________________________________________________________\n",
      "dense_3 (Dense)              (None, 90)                45090     \n",
      "=================================================================\n",
      "Total params: 4,546,590\n",
      "Trainable params: 4,546,590\n",
      "Non-trainable params: 0\n",
      "_________________________________________________________________\n"
     ]
    }
   ],
   "source": [
    "#SVG(model_to_dot(model).create(prog='dot', format='svg'))\n",
    "model.summary()"
   ]
  },
  {
   "cell_type": "code",
   "execution_count": 20,
   "metadata": {},
   "outputs": [
    {
     "name": "stderr",
     "output_type": "stream",
     "text": [
      "INFO:root:Training model\n"
     ]
    },
    {
     "name": "stdout",
     "output_type": "stream",
     "text": [
      "Train on 7769 samples, validate on 3019 samples\n",
      "Epoch 1/10\n",
      " - 18s - loss: 0.0640 - acc: 0.9862 - val_loss: 0.0251 - val_acc: 0.9946\n",
      "Epoch 2/10\n",
      " - 18s - loss: 0.0169 - acc: 0.9957 - val_loss: 0.0209 - val_acc: 0.9949\n",
      "Epoch 3/10\n",
      " - 16s - loss: 0.0102 - acc: 0.9971 - val_loss: 0.0199 - val_acc: 0.9955\n",
      "Epoch 4/10\n",
      " - 19s - loss: 0.0065 - acc: 0.9980 - val_loss: 0.0201 - val_acc: 0.9955\n",
      "Epoch 5/10\n",
      " - 17s - loss: 0.0049 - acc: 0.9985 - val_loss: 0.0201 - val_acc: 0.9959\n",
      "Epoch 6/10\n",
      " - 16s - loss: 0.0039 - acc: 0.9988 - val_loss: 0.0204 - val_acc: 0.9955\n",
      "Epoch 7/10\n",
      " - 19s - loss: 0.0032 - acc: 0.9990 - val_loss: 0.0225 - val_acc: 0.9956\n",
      "Epoch 8/10\n",
      " - 19s - loss: 0.0029 - acc: 0.9992 - val_loss: 0.0214 - val_acc: 0.9957\n",
      "Epoch 9/10\n",
      " - 20s - loss: 0.0030 - acc: 0.9992 - val_loss: 0.0212 - val_acc: 0.9958\n",
      "Epoch 10/10\n",
      " - 20s - loss: 0.0031 - acc: 0.9992 - val_loss: 0.0241 - val_acc: 0.9955\n",
      "('Test loss:', 0.02405112795315809)\n",
      "('Test accuracy:', 0.9955172606278982)\n"
     ]
    }
   ],
   "source": [
    "logging.info(\"Training model\")\n",
    "model.fit(X,y,batch_size=50,epochs=10,verbose=2,validation_data=(X_,y_))\n",
    "score = model.evaluate(X_, y_, verbose=0)\n",
    "print('Test loss:', score[0])\n",
    "print('Test accuracy:', score[1])"
   ]
  }
 ],
 "metadata": {
  "kernelspec": {
   "display_name": "Python 2",
   "language": "python",
   "name": "python2"
  },
  "language_info": {
   "codemirror_mode": {
    "name": "ipython",
    "version": 2
   },
   "file_extension": ".py",
   "mimetype": "text/x-python",
   "name": "python",
   "nbconvert_exporter": "python",
   "pygments_lexer": "ipython2",
   "version": "2.7.14"
  }
 },
 "nbformat": 4,
 "nbformat_minor": 2
}
